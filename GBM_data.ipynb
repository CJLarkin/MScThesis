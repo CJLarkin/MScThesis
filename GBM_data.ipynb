{
 "cells": [
  {
   "cell_type": "code",
   "execution_count": 13,
   "metadata": {},
   "outputs": [],
   "source": [
    "#main data analysis\n",
    "\n",
    "#\\t for each cell\n",
    "#\\n for new line\n",
    "\n",
    "import csv\n",
    "from itertools import combinations\n",
    "import numpy as np\n",
    "import scipy\n",
    "from scipy.stats.stats import pearsonr #returns Pearson's correlation coefficient, 2-tailed p-value\n",
    "from scipy.stats.stats import spearmanr #returns Spearman's correlation coefficient, 2-tailed p-value\n",
    "import seaborn as sns\n",
    "import operator\n",
    "import matplotlib.pyplot as plt\n",
    "import matplotlib\n",
    "import math\n",
    "\n",
    "#returns mutation, gene, study, sample\n",
    "def read(file, empty):\n",
    "    with open(file, newline = '') as GBM_data:\n",
    "        lineID = 0\n",
    "        headings = []\n",
    "        mutations = []\n",
    "        lines = csv.reader(GBM_data, delimiter='\\n')\n",
    "        for line in lines:\n",
    "            cell = csv.reader(line, delimiter='\\t')\n",
    "            for info in cell:\n",
    "                foo = info[0]\n",
    "                bar = info[1]\n",
    "                columnID = 0\n",
    "                if lineID == 0:\n",
    "                    headings.append(info)\n",
    "                    titles = headings[0]\n",
    "                    title1 = titles[0]\n",
    "                    title2 = titles[1]\n",
    "                for data in info:\n",
    "                    output = []\n",
    "                    if (data != empty) & (lineID != 0) & (columnID != 0) & (columnID != 1):\n",
    "                        #print (\"Mutation: \", data,\"Gene: \", titles[columnID], title1 ,\": \", foo, title2,\": \", bar)\n",
    "                        output.append(data)\n",
    "                        output.append(titles[columnID])\n",
    "                        output.append(foo)\n",
    "                        output.append(bar)\n",
    "                        #print (output)\n",
    "                        mutations.append(output)\n",
    "                    columnID += 1\n",
    "            lineID +=1\n",
    "    return mutations\n",
    "\n",
    "#outputs similar genes\n",
    "def getGenes(data, file):\n",
    "    genes = []\n",
    "    for i in data:\n",
    "        gene = i[1]\n",
    "        genes.append(gene)\n",
    "    genes = list(dict.fromkeys(genes))\n",
    "    \n",
    "    #print (genes)\n",
    "    with open(file, newline = '') as RNA_data:\n",
    "        geneID = []\n",
    "        lines = csv.reader(RNA_data, delimiter='\\n')\n",
    "        for line in lines:\n",
    "            cell = csv.reader(line, delimiter='\\t')\n",
    "            for info in cell:\n",
    "                columnID = 0\n",
    "                for data in info: #going through cell by cell\n",
    "                    if columnID == 0:\n",
    "                        for name in genes:\n",
    "                            if name in data:\n",
    "                                geneID.append(data)\n",
    "                columnID += 1\n",
    "    return geneID\n",
    "\n",
    "#returns [[gene, expression level 1, 2, 3,...], [gene2, exp1, 2, 3,...],...]\n",
    "def RNAexp(genes, file):\n",
    "    output = []\n",
    "    with open(file, newline = '') as RNA_data:\n",
    "        lines = csv.reader(RNA_data, delimiter='\\n')\n",
    "        for line in lines:\n",
    "            cell = list(csv.reader(line, delimiter='\\t'))\n",
    "            for info in cell:\n",
    "                for i in genes:\n",
    "                    if info[0] == i:\n",
    "                        things = []\n",
    "                        for data in info:\n",
    "                            things.append(data)\n",
    "                        output.append(things)\n",
    "    return output\n",
    "\n",
    "def writeFile(file, data):\n",
    "    f = open(file,'w')\n",
    "    f.write(\"Gene\" + \"\\t\" + \"Log2 Expression Level\")\n",
    "    f.write(\"\\n\")\n",
    "    for i in data:\n",
    "        count = 0\n",
    "        for n in i:\n",
    "            if count != 0:\n",
    "                try:\n",
    "                    f.write(\"%s\\t\" % float(n))\n",
    "                except ValueError:\n",
    "                    f.write(\"%s\\t\" % n)\n",
    "            else:\n",
    "                f.write(\"%s\\t\" % n)\n",
    "            count +=1\n",
    "        f.write(\"\\n\")\n",
    "    f.close()\n",
    "    \n",
    "def toFloat(data): #takes in singular set of [gene, exp1, exp2,...], returns ['gene', [exp1,exp2,...]] with exp as float\n",
    "    output = []\n",
    "    gene = data[0]\n",
    "    for i in data[1:]:\n",
    "        try:\n",
    "            output.append(float(i))\n",
    "        except ValueError:\n",
    "            output.append(0) #this might screw with the results, let's see...\n",
    "            gene = \"null\"\n",
    "    return gene, output\n",
    "\n",
    "#takes in output of RNAexp, ie [[gene, expression level 1, 2, 3,...], [gene2, exp1, 2, 3,...],...]\n",
    "def correlation(data):\n",
    "    comb = list(combinations(np.arange(0,len(data),1),2))\n",
    "    relationship = {}\n",
    "    for n in comb:\n",
    "        gene1, exp1 = toFloat(data[n[0]])\n",
    "        gene2, exp2 = toFloat(data[n[1]])\n",
    "        corr, p = scipy.stats.pearsonr(exp1, exp2)\n",
    "        relationship[gene1 + \", \" + gene2] = corr\n",
    "    return relationship\n",
    "\n",
    "def corrRanked(data):\n",
    "    comb = list(combinations(np.arange(0,len(data),1),2))\n",
    "    relationship = {}\n",
    "    for n in comb:\n",
    "        gene1, exp1 = toFloat(data[n[0]])\n",
    "        gene2, exp2 = toFloat(data[n[1]])\n",
    "        corr, p = scipy.stats.spearmanr(exp1, exp2)\n",
    "        relationship[gene1 + \", \" + gene2] = corr\n",
    "    return relationship\n",
    "\n",
    "#writes GINML file with specified nodes and edges\n",
    "def WriteGINML(corr_data, outfile):\n",
    "        PathwayID = \"MAPK_corr\" #just name of system\n",
    "        ProteinList = nodes(corr_data)\n",
    "        AllEdges = edges(corr_data)\n",
    "\n",
    "        f = open('{0}.ginml'.format(outfile), 'w')\n",
    "        f.write('<?xml version=\"1.0\" encoding=\"UTF-8\"?>\\n')\n",
    "        f.write('<!DOCTYPE gxl SYSTEM \"http://ginsim.org/GINML_2_2.dtd\">\\n')\n",
    "        f.write('<gxl xmlns:xlink=\"http://www.w3.org/1999/xlink\">\\n')\n",
    "        lineadd = '  <graph class=\"regulatory\" id=\"' + PathwayID + '\" nodeorder=\"' + ' '.join(ProteinList) + '\">\\n'\n",
    "        f.write(lineadd)\n",
    "        f.write('\\n')\n",
    "        f.write('    <nodestyle background=\"#ffffff\" foreground=\"#000000\" text=\"#000000\" shape=\"RECTANGLE\" width=\"45\" height=\"25\"/>\\n')\n",
    "        f.write('    <nodestyle background=\"#ffffff\" foreground=\"#000000\" text=\"#000000\" shape=\"RECTANGLE\" width=\"45\" height=\"25\"/>\\n')\n",
    "        f.write('    <edgestyle color=\"#000000\" pattern=\"SIMPLE\" line_width=\"1\" properties=\"positive:#00c800 negative:#c80000 dual:#0000c8\"/>\\n')\n",
    "        f.write('    <edgestyle color=\"#000000\" pattern=\"SIMPLE\" line_width=\"1\" properties=\"positive:#00c800 negative:#c80000 dual:#0000c8\"/>\\n')\n",
    "        f.write('\\n')\n",
    "\n",
    "        for i in range(len(ProteinList)):\n",
    "            lineadd2 = '    <node id=\"' + ProteinList[i] + '\" maxvalue=\"1\">\\n'\n",
    "            f.write(lineadd2)\n",
    "            f.write('      <value val=\"1\">\\n' + '      </value>\\n')\n",
    "\n",
    "            r = 300                                     #300 is an arbitrary value for now, will make it a function of node number\n",
    "            x = r + (-1)*r*math.cos((i/len(ProteinList))*2*math.pi)   #This defines position of the x coordinate\n",
    "            y = r + (-1)*r*math.sin((i/len(ProteinList))*2*math.pi)   #This defines position of the y coordinate\n",
    "            f.write('      <nodevisualsetting x=\"' + str(round(x)) + '\"' + ' y=\"' + str(round(y)) + '\" style=\"\"/>\\n') #Make a circular spread using the sin(360/len(ProteinList), make x y variable\n",
    "            f.write('    </node>\\n')                                           #Turn x and y into variables\n",
    "\n",
    "        f.write('\\n')\n",
    "\n",
    "        for i in range(len(AllEdges)):\n",
    "            lineadd3 = '    <edge id=\"' + AllEdges[i][0] + ':' + AllEdges[i][1] + '\" from=\"' + AllEdges[i][0] + '\" to=\"' + AllEdges[i][1] + '\" minvalue=\"1\" sign=\"' + AllEdges[i][2] + '\">\\n'\n",
    "            f.write(lineadd3)\n",
    "            f.write('      <edgevisualsetting style=\"\"/>\\n')\n",
    "            f.write('    </edge>\\n')\n",
    "\n",
    "        f.write('\\n')\n",
    "        f.write('  </graph>\\n')\n",
    "        f.write('</gxl>')\n",
    "        f.close()\n",
    "\n",
    "        \n",
    "#takes in result of corr functions and returns list of genes invovled in relationships with r >= 0.6\n",
    "def nodes(data):\n",
    "    nodes = []\n",
    "    for i in range(len(data)):\n",
    "        #print (abs(data[i][1]))\n",
    "        if 1 > abs(data[i][1]) >= 0.6:\n",
    "            split = [x.strip() for x in sorted_corrsR[i][0].split(',')]\n",
    "            #print (split[0])\n",
    "            if (split[0] != \"null\") & (split[1] != \"null\"):\n",
    "                nodes.append(split[0])\n",
    "                nodes.append(split[1])\n",
    "    nodes = list(dict.fromkeys(nodes))\n",
    "    return nodes\n",
    "\n",
    "#takes in result of corr functions and returns list of lists of gene1, gene2, positive/negative\n",
    "def edges(data):\n",
    "    edges = []\n",
    "    for i in range(len(data)):\n",
    "        edge = []\n",
    "        if 1 > data[i][1] >= 0.6:\n",
    "            split = [x.strip() for x in sorted_corrsR[i][0].split(',')]\n",
    "            if (split[0] != \"null\") & (split[1] != \"null\"):\n",
    "                edge.append(split[0])\n",
    "                edge.append(split[1])\n",
    "                edge.append(\"positive\")\n",
    "                edges.append(edge)\n",
    "        if -1 < data[i][1] <= -0.6:\n",
    "            split = [x.strip() for x in sorted_corrsR[i][0].split(',')]\n",
    "            if (split[0] != \"null\") & (split[1] != \"null\"):\n",
    "                edge.append(split[0])\n",
    "                edge.append(split[1])\n",
    "                edge.append(\"negative\")\n",
    "                edges.append(edge)\n",
    "    return edges"
   ]
  },
  {
   "cell_type": "code",
   "execution_count": 14,
   "metadata": {},
   "outputs": [],
   "source": [
    "data = read(\"/Users/collinjlarkin/MSc_project/GenomeData/mutations.txt\", \"NA\")\n",
    "file = \"/Users/collinjlarkin/MSc_project/GenomeData/GBMnormalized.txt\"\n",
    "destFile = \"/Users/collinjlarkin/MSc_project/GenomeData/test.txt\"\n",
    "commonGenes = getGenes(data, file)\n",
    "rna = RNAexp(commonGenes, file)\n",
    "#print (rna[0])\n",
    "writeFile(destFile,rna)"
   ]
  },
  {
   "cell_type": "code",
   "execution_count": 15,
   "metadata": {},
   "outputs": [],
   "source": [
    "corrsR = corrRanked(rna)\n",
    "sorted_corrsR = sorted(corrsR.items(), key=operator.itemgetter(1))\n",
    "\n",
    "#print (sorted_corrsR)"
   ]
  },
  {
   "cell_type": "code",
   "execution_count": 16,
   "metadata": {},
   "outputs": [
    {
     "name": "stdout",
     "output_type": "stream",
     "text": [
      "('HEATR5B|54497, PRELID1|27166', -0.8010607915136679)\n"
     ]
    },
    {
     "data": {
      "text/plain": [
       "['HEATR5B|54497',\n",
       " 'PRELID1|27166',\n",
       " 'MAPK8IP3|23162',\n",
       " 'MYCBP|26292',\n",
       " 'ATRN|8455',\n",
       " 'TAOK1|57551',\n",
       " 'MAP3K13|9175',\n",
       " 'TP53TG1|11257',\n",
       " 'BCL2L12|83596',\n",
       " 'HIPK2|28996',\n",
       " 'GSK3B|2932',\n",
       " 'ATRX|546',\n",
       " 'MATR3|9782',\n",
       " 'RELB|5971',\n",
       " 'BAX|581',\n",
       " 'MAP3K11|4296',\n",
       " 'MAP3K10|4294',\n",
       " 'MYCBP2|23077',\n",
       " 'MYCN|4613',\n",
       " 'RAF1|5894',\n",
       " 'MAPK8IP2|23542',\n",
       " 'ATM|472',\n",
       " 'ATR|545',\n",
       " 'TP53I13|90313',\n",
       " 'NFKB1|4790',\n",
       " 'MAPK8IP1|9479',\n",
       " 'MTOR|2475',\n",
       " 'MAPK11|5600',\n",
       " 'MAPK12|6300',\n",
       " 'TAOK2|9344',\n",
       " 'NFKB2|4791',\n",
       " 'BCL2A1|597',\n",
       " 'MAPK13|5603',\n",
       " 'BRAF|673',\n",
       " 'CDKN2AIPNL|91368',\n",
       " 'PTENP1|11191',\n",
       " 'PTEN|5728']"
      ]
     },
     "execution_count": 16,
     "metadata": {},
     "output_type": "execute_result"
    }
   ],
   "source": [
    "print (sorted_corrsR[0])\n",
    "nodes(sorted_corrsR)"
   ]
  },
  {
   "cell_type": "code",
   "execution_count": 17,
   "metadata": {},
   "outputs": [
    {
     "data": {
      "text/plain": [
       "[['HEATR5B|54497', 'PRELID1|27166', 'negative'],\n",
       " ['MAPK8IP3|23162', 'MYCBP|26292', 'negative'],\n",
       " ['ATRN|8455', 'PRELID1|27166', 'negative'],\n",
       " ['PRELID1|27166', 'TAOK1|57551', 'negative'],\n",
       " ['MAP3K13|9175', 'TP53TG1|11257', 'negative'],\n",
       " ['BCL2L12|83596', 'HIPK2|28996', 'negative'],\n",
       " ['GSK3B|2932', 'TP53TG1|11257', 'negative'],\n",
       " ['ATRX|546', 'PRELID1|27166', 'negative'],\n",
       " ['MATR3|9782', 'RELB|5971', 'negative'],\n",
       " ['HIPK2|28996', 'MYCBP|26292', 'negative'],\n",
       " ['BAX|581', 'HEATR5B|54497', 'negative'],\n",
       " ['MAP3K11|4296', 'MATR3|9782', 'negative'],\n",
       " ['MAP3K10|4294', 'MYCBP|26292', 'negative'],\n",
       " ['ATRN|8455', 'HEATR5B|54497', 'positive'],\n",
       " ['HEATR5B|54497', 'MYCBP2|23077', 'positive'],\n",
       " ['MYCN|4613', 'RAF1|5894', 'positive'],\n",
       " ['MAPK8IP2|23542', 'MAPK8IP3|23162', 'positive'],\n",
       " ['ATM|472', 'HEATR5B|54497', 'positive'],\n",
       " ['ATM|472', 'ATR|545', 'positive'],\n",
       " ['MAP3K13|9175', 'TAOK1|57551', 'positive'],\n",
       " ['GSK3B|2932', 'MAP3K13|9175', 'positive'],\n",
       " ['HEATR5B|54497', 'HIPK2|28996', 'positive'],\n",
       " ['BCL2L12|83596', 'MYCBP|26292', 'positive'],\n",
       " ['GSK3B|2932', 'HEATR5B|54497', 'positive'],\n",
       " ['BCL2L12|83596', 'TP53I13|90313', 'positive'],\n",
       " ['NFKB1|4790', 'RELB|5971', 'positive'],\n",
       " ['MAPK8IP1|9479', 'MAPK8IP2|23542', 'positive'],\n",
       " ['HEATR5B|54497', 'MTOR|2475', 'positive'],\n",
       " ['MAPK11|5600', 'MAPK12|6300', 'positive'],\n",
       " ['MTOR|2475', 'TAOK2|9344', 'positive'],\n",
       " ['MAPK8IP3|23162', 'TAOK2|9344', 'positive'],\n",
       " ['HEATR5B|54497', 'TAOK1|57551', 'positive'],\n",
       " ['ATRX|546', 'HEATR5B|54497', 'positive'],\n",
       " ['NFKB1|4790', 'NFKB2|4791', 'positive'],\n",
       " ['BCL2A1|597', 'MAPK13|5603', 'positive'],\n",
       " ['BRAF|673', 'TAOK1|57551', 'positive'],\n",
       " ['MAP3K10|4294', 'MAPK8IP3|23162', 'positive'],\n",
       " ['MAP3K10|4294', 'MAPK8IP2|23542', 'positive'],\n",
       " ['CDKN2AIPNL|91368', 'PRELID1|27166', 'positive'],\n",
       " ['NFKB2|4791', 'RELB|5971', 'positive'],\n",
       " ['PTENP1|11191', 'PTEN|5728', 'positive']]"
      ]
     },
     "execution_count": 17,
     "metadata": {},
     "output_type": "execute_result"
    }
   ],
   "source": [
    "edges(sorted_corrsR)"
   ]
  },
  {
   "cell_type": "code",
   "execution_count": 18,
   "metadata": {},
   "outputs": [],
   "source": [
    "WriteGINML(sorted_corrsR,\"MAPKtest\")"
   ]
  },
  {
   "cell_type": "code",
   "execution_count": 19,
   "metadata": {},
   "outputs": [
    {
     "name": "stderr",
     "output_type": "stream",
     "text": [
      "/Users/collinjlarkin/anaconda3/lib/python3.7/site-packages/scipy/stats/stats.py:1713: FutureWarning: Using a non-tuple sequence for multidimensional indexing is deprecated; use `arr[tuple(seq)]` instead of `arr[seq]`. In the future this will be interpreted as an array index, `arr[np.array(seq)]`, which will result either in an error or a different result.\n",
      "  return np.add.reduce(sorted[indexer] * weights, axis=axis) / sumval\n"
     ]
    },
    {
     "data": {
      "image/png": "[encoded data removed]",
      "text/plain": [
       "<Figure size 432x288 with 1 Axes>"
      ]
     },
     "metadata": {
      "needs_background": "light"
     },
     "output_type": "display_data"
    },
    {
     "name": "stdout",
     "output_type": "stream",
     "text": [
      "105\n"
     ]
    }
   ],
   "source": [
    "count = 0\n",
    "for i in range(len(rna)):\n",
    "    gene1, exp1 = toFloat(rna[i])\n",
    "    if gene1 != \"null\":\n",
    "        count += 1\n",
    "        e1 = sns.kdeplot(exp1, shade=\"True\")\n",
    "plt.title(\"Gene Expression\")\n",
    "plt.xlabel(\"Normalized Gene Expression Level\")\n",
    "plt.ylabel(\"Frequency\")\n",
    "plt.show()\n",
    "print (count)"
   ]
  },
  {
   "cell_type": "code",
   "execution_count": 20,
   "metadata": {},
   "outputs": [
    {
     "data": {
      "image/png": "[encoded data removed]",
      "text/plain": [
       "<Figure size 432x288 with 1 Axes>"
      ]
     },
     "metadata": {
      "needs_background": "light"
     },
     "output_type": "display_data"
    }
   ],
   "source": [
    "avg = []\n",
    "for i in range(len(rna)):\n",
    "    gene1, exp1 = toFloat(rna[i])\n",
    "    if gene1 != \"null\":\n",
    "        avg.append(np.mean(exp1))\n",
    "e1 = sns.kdeplot(avg, shade=\"True\")\n",
    "plt.title(\"Gene Expression\")\n",
    "plt.xlabel(\"Normalized Gene Expression Level\")\n",
    "plt.ylabel(\"Frequency\")\n",
    "plt.show()"
   ]
  },
  {
   "cell_type": "code",
   "execution_count": 21,
   "metadata": {},
   "outputs": [
    {
     "name": "stdout",
     "output_type": "stream",
     "text": [
      "['ATRNL1|26033', 'BCL2A1|597', 'BCL2L12|83596', 'BCL2L15|440603', 'BRAF|673', 'CDKN2A|1029', 'CHEK2|11200', 'FGFR3|2261', 'KIRREL2|84063', 'KIRREL|55243', 'LEPREL1|55214', 'LEPREL2|10536', 'MAP3K13|9175', 'MAPK10|5602', 'MAPK13|5603', 'MAPK8IP2|23542', 'MYCL1|4610', 'MYCN|4613', 'MYCT1|80177', 'PRELID2|153768', 'RELL2|285613', 'RELN|5649', 'REL|5966', 'TAOK1|57551', 'TP53AIP1|63970', 'TRAF1|7185']\n"
     ]
    }
   ],
   "source": [
    "#should be tumor suppressors\n",
    "lowGenes = []\n",
    "for i in range(len(rna)):\n",
    "    gene, exp = toFloat(rna[i])\n",
    "    if gene != 'null':\n",
    "        for n in exp:\n",
    "            if n < 5.5:\n",
    "                lowGenes.append(gene)\n",
    "    lowGenes = list(dict.fromkeys(lowGenes))\n",
    "\n",
    "print (lowGenes)"
   ]
  },
  {
   "cell_type": "code",
   "execution_count": 22,
   "metadata": {},
   "outputs": [
    {
     "name": "stdout",
     "output_type": "stream",
     "text": [
      "['ARAF|369', 'ATMIN|23300', 'ATM|472', 'ATRNL1|26033', 'ATRN|8455', 'ATRX|546', 'ATR|545', 'BAX|581', 'BCL2A1|597', 'BCL2L11|10018', 'BCL2L12|83596', 'BCL2L13|23786', 'BCL2L1|598', 'BCL2L2|599', 'BCL2|596', 'CDKN2AIPNL|91368', 'CDKN2AIP|55602', 'CDKN2A|1029', 'CRELD1|78987', 'CRELD2|79174', 'CTNNB1|1499', 'EGFR|1956', 'FGFR3|2261', 'GADD45B|4616', 'GATM|2628', 'GSK3B|2932', 'HEATR1|55127', 'HEATR2|54919', 'HEATR5A|25938', 'HEATR5B|54497', 'HEATR6|63897', 'HEATR7A|727957', 'HIPK2|28996', 'KIRREL|55243', 'LEPREL1|55214', 'LEPREL2|10536', 'MAP3K10|4294', 'MAP3K11|4296', 'MAP3K12|7786', 'MAP3K14|9020', 'MAP3K1|4214', 'MAPK10|5602', 'MAPK11|5600', 'MAPK12|6300', 'MAPK14|1432', 'MAPK1IP1L|93487', 'MAPK1|5594', 'MAPK3|5595', 'MAPK8IP1|9479', 'MAPK8IP2|23542', 'MAPK8IP3|23162', 'MAPK8|5599', 'MAPK9|5601', 'MATR3|9782', 'MDM2|4193', 'MTOR|2475', 'MYCBP2|23077', 'MYCBP|26292', 'MYCL1|4610', 'MYCN|4613', 'MYC|4609', 'NFKB1|4790', 'NFKB2|4791', 'NRAS|4893', 'PRELID1|27166', 'PRELP|5549', 'PRKDC|5591', 'PTEN|5728', 'RAF1|5894', 'RELA|5970', 'RELB|5971', 'RELL1|768211', 'RELL2|285613', 'RELN|5649', 'RELT|84957', 'TAOK1|57551', 'TAOK2|9344', 'TAOK3|51347', 'TP53BP1|7158', 'TP53BP2|7159', 'TP53I11|9537', 'TP53I13|90313', 'TP53I3|9540', 'TP53INP1|94241', 'TP53INP2|58476', 'TP53RK|112858', 'TP53TG1|11257', 'TP53|7157', 'TRAF1|7185']\n"
     ]
    }
   ],
   "source": [
    "#should be oncogenes\n",
    "highGenes = []\n",
    "for i in range(len(rna)):\n",
    "    gene, exp = toFloat(rna[i])\n",
    "    if gene != 'null':\n",
    "        for n in exp:\n",
    "            if n > 9.5:\n",
    "                highGenes.append(gene)\n",
    "    highGenes = list(dict.fromkeys(highGenes))\n",
    "\n",
    "print (highGenes)"
   ]
  },
  {
   "cell_type": "code",
   "execution_count": 23,
   "metadata": {},
   "outputs": [
    {
     "data": {
      "text/plain": [
       "['ATRNL1|26033',\n",
       " 'BCL2A1|597',\n",
       " 'BCL2L12|83596',\n",
       " 'CDKN2A|1029',\n",
       " 'FGFR3|2261',\n",
       " 'KIRREL|55243',\n",
       " 'LEPREL1|55214',\n",
       " 'LEPREL2|10536',\n",
       " 'MAPK10|5602',\n",
       " 'MAPK8IP2|23542',\n",
       " 'MYCL1|4610',\n",
       " 'MYCN|4613',\n",
       " 'RELL2|285613',\n",
       " 'RELN|5649',\n",
       " 'TAOK1|57551',\n",
       " 'TRAF1|7185']"
      ]
     },
     "execution_count": 23,
     "metadata": {},
     "output_type": "execute_result"
    }
   ],
   "source": [
    "def intersection(lst1, lst2): \n",
    "    lst3 = [value for value in lst1 if value in lst2] \n",
    "    return lst3\n",
    "\n",
    "intersection(lowGenes,highGenes)"
   ]
  },
  {
   "cell_type": "code",
   "execution_count": 24,
   "metadata": {},
   "outputs": [
    {
     "data": {
      "text/plain": [
       "[['HEATR5B', 'PRELID1', 'negative'],\n",
       " ['MAPK8IP3', 'MYCBP', 'negative'],\n",
       " ['ATRN', 'PRELID1', 'negative'],\n",
       " ['PRELID1', 'TAOK1', 'negative'],\n",
       " ['MAP3K13', 'TP53TG1', 'negative'],\n",
       " ['BCL2L12', 'HIPK2', 'negative'],\n",
       " ['GSK3B', 'TP53TG1', 'negative'],\n",
       " ['ATRX', 'PRELID1', 'negative'],\n",
       " ['MATR3', 'RELB', 'negative'],\n",
       " ['HIPK2', 'MYCBP', 'negative'],\n",
       " ['BAX', 'HEATR5B', 'negative'],\n",
       " ['MAP3K11', 'MATR3', 'negative'],\n",
       " ['MAP3K10', 'MYCBP', 'negative'],\n",
       " ['ATRN', 'HEATR5B', 'positive'],\n",
       " ['HEATR5B', 'MYCBP2', 'positive'],\n",
       " ['MYCN', 'RAF1', 'positive'],\n",
       " ['MAPK8IP2', 'MAPK8IP3', 'positive'],\n",
       " ['ATM', 'HEATR5B', 'positive'],\n",
       " ['ATM', 'ATR', 'positive'],\n",
       " ['MAP3K13', 'TAOK1', 'positive'],\n",
       " ['GSK3B', 'MAP3K13', 'positive'],\n",
       " ['HEATR5B', 'HIPK2', 'positive'],\n",
       " ['BCL2L12', 'MYCBP', 'positive'],\n",
       " ['GSK3B', 'HEATR5B', 'positive'],\n",
       " ['BCL2L12', 'TP53I13', 'positive'],\n",
       " ['NFKB1', 'RELB', 'positive'],\n",
       " ['MAPK8IP1', 'MAPK8IP2', 'positive'],\n",
       " ['HEATR5B', 'MTOR', 'positive'],\n",
       " ['MAPK11', 'MAPK12', 'positive'],\n",
       " ['MTOR', 'TAOK2', 'positive'],\n",
       " ['MAPK8IP3', 'TAOK2', 'positive'],\n",
       " ['HEATR5B', 'TAOK1', 'positive'],\n",
       " ['ATRX', 'HEATR5B', 'positive'],\n",
       " ['NFKB1', 'NFKB2', 'positive'],\n",
       " ['BCL2A1', 'MAPK13', 'positive'],\n",
       " ['BRAF', 'TAOK1', 'positive'],\n",
       " ['MAP3K10', 'MAPK8IP3', 'positive'],\n",
       " ['MAP3K10', 'MAPK8IP2', 'positive'],\n",
       " ['CDKN2AIPNL', 'PRELID1', 'positive'],\n",
       " ['NFKB2', 'RELB', 'positive'],\n",
       " ['PTENP1', 'PTEN', 'positive']]"
      ]
     },
     "execution_count": 24,
     "metadata": {},
     "output_type": "execute_result"
    }
   ],
   "source": [
    "#there really isn't a good way to do this that I can think of... usual brute force won't work due to differences in names of genes and nodes\n",
    "\n",
    "ognet = open(\"/Users/collinjlarkin/MSc_project/GinSim_work/GINsim-data/regulatoryGraph.ginml\", \"r\")\n",
    "corrnet = open(\"/Users/collinjlarkin/MSc_project/MAPKtest.ginml\", \"r\")\n",
    "\n",
    "def all_extract(line, subs, sube):\n",
    "    var = ''\n",
    "    if subs in line:\n",
    "        var = line.replace(subs,\"\").replace(sube,\"\")\n",
    "        #print (\"all_extract: \", var)\n",
    "    return var\n",
    "\n",
    "def names(corrnet):\n",
    "    edges = []\n",
    "    for line in corrnet:\n",
    "        edge = []\n",
    "        begin = '<edge id=\"'\n",
    "        end = '\">'\n",
    "        var2 = all_extract(line, begin, end)\n",
    "        if var2 != '':\n",
    "            words = var2.rstrip()\n",
    "            rel,frm,to,mn,sign, = words.split()\n",
    "            strp = frm.strip(\"from=\")\n",
    "            fin = strp.strip('\"')\n",
    "            gene1, code1 = fin.split('|')\n",
    "            #print (\"gene1 = \", gene1)\n",
    "            strp = to.strip(\"to=\")\n",
    "            fin = strp.strip('\"')\n",
    "            gene2, code2 = fin.split('|')\n",
    "            #print (\"gene2 = \", gene2)\n",
    "            sign = sign.strip('sign=')\n",
    "            sign = sign.strip('\"')\n",
    "            edge.append(gene1)\n",
    "            edge.append(gene2)\n",
    "            edge.append(sign)\n",
    "            edges.append(edge)\n",
    "    return edges\n",
    "names(corrnet)"
   ]
  },
  {
   "cell_type": "code",
   "execution_count": null,
   "metadata": {},
   "outputs": [],
   "source": []
  }
 ],
 "metadata": {
  "kernelspec": {
   "display_name": "Python 3",
   "language": "python",
   "name": "python3"
  },
  "language_info": {
   "codemirror_mode": {
    "name": "ipython",
    "version": 3
   },
   "file_extension": ".py",
   "mimetype": "text/x-python",
   "name": "python",
   "nbconvert_exporter": "python",
   "pygments_lexer": "ipython3",
   "version": "3.7.1"
  }
 },
 "nbformat": 4,
 "nbformat_minor": 2
}
